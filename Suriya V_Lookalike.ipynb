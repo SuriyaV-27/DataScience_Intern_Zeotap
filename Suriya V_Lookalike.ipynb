{
 "cells": [
  {
   "cell_type": "code",
   "execution_count": 1,
   "id": "70b58abf-ee71-46b7-8ca1-f1d112671b3f",
   "metadata": {},
   "outputs": [
    {
     "name": "stdout",
     "output_type": "stream",
     "text": [
      "Lookalike Model Generated and Saved as Suriya V_Lookalike.csv\n"
     ]
    }
   ],
   "source": [
    "import pandas as pd\n",
    "from sklearn.preprocessing import StandardScaler\n",
    "from sklearn.metrics.pairwise import cosine_similarity\n",
    "\n",
    "# Load datasets\n",
    "customers = pd.read_csv(\"Customers.csv\")\n",
    "products = pd.read_csv(\"Products.csv\")\n",
    "transactions = pd.read_csv(\"Transactions.csv\")\n",
    "\n",
    "# Merge transactions with product data\n",
    "transactions = transactions.merge(products, on=\"ProductID\")\n",
    "\n",
    "# Aggregate purchase behavior per customer\n",
    "customer_features = transactions.groupby(\"CustomerID\").agg(\n",
    "    total_spent=(\"TotalValue\", \"sum\"),\n",
    "    avg_quantity=(\"Quantity\", \"mean\"),\n",
    "    purchase_count=(\"TransactionID\", \"count\"),\n",
    "    unique_products=(\"ProductID\", \"nunique\")\n",
    ").reset_index()\n",
    "\n",
    "# Merge with customer demographic data\n",
    "customer_data = customers.merge(customer_features, on=\"CustomerID\", how=\"left\").fillna(0)\n",
    "\n",
    "# Encode categorical variables (One-Hot Encoding for Region)\n",
    "customer_data = pd.get_dummies(customer_data, columns=[\"Region\"], drop_first=True)\n",
    "\n",
    "# Scale numerical features\n",
    "scaler = StandardScaler()\n",
    "feature_columns = [\"total_spent\", \"avg_quantity\", \"purchase_count\", \"unique_products\"] + list(customer_data.columns[5:])\n",
    "customer_data_scaled = scaler.fit_transform(customer_data[feature_columns])\n",
    "\n",
    "# Compute similarity matrix\n",
    "similarity_matrix = cosine_similarity(customer_data_scaled)\n",
    "\n",
    "# Get top 3 similar customers for each customer\n",
    "customer_ids = customer_data[\"CustomerID\"].tolist()\n",
    "lookalike_dict = {}\n",
    "\n",
    "for idx, cust_id in enumerate(customer_ids):\n",
    "    similar_indices = similarity_matrix[idx].argsort()[::-1][1:4]  # Get top 3 excluding itself\n",
    "    lookalike_dict[cust_id] = [(customer_ids[i], round(similarity_matrix[idx][i], 4)) for i in similar_indices]\n",
    "\n",
    "# Convert to DataFrame and save as CSV\n",
    "lookalike_df = pd.DataFrame([(cust, sim[0], sim[1]) for cust, sims in lookalike_dict.items() for sim in sims],\n",
    "                            columns=[\"CustomerID\", \"LookalikeCustomerID\", \"SimilarityScore\"])\n",
    "lookalike_df.to_csv(\"Suriya V_Lookalike.csv\", index=False)\n",
    "\n",
    "print(\"Lookalike Model Generated and Saved as Suriya V_Lookalike.csv\")\n"
   ]
  },
  {
   "cell_type": "code",
   "execution_count": null,
   "id": "a241e252-94bd-4c02-814c-c3d52f7fe8b8",
   "metadata": {},
   "outputs": [],
   "source": []
  },
  {
   "cell_type": "code",
   "execution_count": null,
   "id": "62d8de3e-07c0-4086-9d74-3c7a734c8b9d",
   "metadata": {},
   "outputs": [],
   "source": []
  }
 ],
 "metadata": {
  "kernelspec": {
   "display_name": "Python 3 (ipykernel)",
   "language": "python",
   "name": "python3"
  },
  "language_info": {
   "codemirror_mode": {
    "name": "ipython",
    "version": 3
   },
   "file_extension": ".py",
   "mimetype": "text/x-python",
   "name": "python",
   "nbconvert_exporter": "python",
   "pygments_lexer": "ipython3",
   "version": "3.12.7"
  }
 },
 "nbformat": 4,
 "nbformat_minor": 5
}
